{
  "cells": [
    {
      "cell_type": "markdown",
      "id": "GOGjiAk8_gm2",
      "metadata": {
        "id": "GOGjiAk8_gm2"
      },
      "source": [
        "Gaming logic:\n",
        "\n",
        "1. Word (list) -- random module to choose a random word from a list\n",
        "2. Hide that word - shows the length of the word, so the person knows how the long the word is\n",
        "3. Initialize necessary variables (mistake counter, empty list to hold the already guessed letters, [display the alphabet], hangman visual)\n",
        "4. We need user input\n",
        "5. Evaluate the input\n",
        "\t5.1 - if the letter is correct (word contains it)\n",
        "\t\t5.1.1 - how many times\n",
        "\t\t5.1.2 - where those letters are (index)\n",
        "\t\t5.1.3 - how are we going to reveal it\n",
        "\t\t5.1.4 - ask the user to give another letter\n",
        "\t5.2 - if the letter is incorrect (word does not contain it)\n",
        "\t\t5.2.1 - decrease the mistake counter\n",
        "\t\t5.2.2 - save the letter to a list, so the user is aware of the already guessed letters\n",
        "\t\t5.2.3 - update the visual\n",
        "\t\t5.2.4 - ask the user to give another letter\n",
        "\t5.3 - optional: check if the letter has been guessed already\n",
        "\n",
        "6. End of game condition:\n",
        "\t6.1 - Win\n",
        "\t\t6.1.1 - if all of the letters are revealed\n",
        "\t6.2 - Lose\n",
        "\t\t6.2.1 - if mistake counter hits 0 the game is over"
      ]
    },
    {
      "cell_type": "markdown",
      "id": "649cee80-bfe9-4cf7-955b-560a475b94d7",
      "metadata": {
        "id": "649cee80-bfe9-4cf7-955b-560a475b94d7"
      },
      "source": [
        "# Hangman game"
      ]
    },
    {
      "cell_type": "code",
      "execution_count": null,
      "id": "guT9cGbxAGJ9",
      "metadata": {
        "id": "guT9cGbxAGJ9"
      },
      "outputs": [],
      "source": [
        "hangman={0:'''\n",
        "        ____________\n",
        "         |\n",
        "\n",
        "\n",
        "\n",
        "         ''',\n",
        "        1:'''\n",
        "        ____________\n",
        "         |\n",
        "         O\n",
        "\n",
        "\n",
        "         ''',\n",
        "        2:'''\n",
        "        ____________\n",
        "         |\n",
        "         O\n",
        "        /\n",
        "\n",
        "        ''',\n",
        "        3:'''\n",
        "        ____________\n",
        "         |\n",
        "         O\n",
        "        / \\\\\n",
        "\n",
        "        ''',\n",
        "        4:'''\n",
        "        ____________\n",
        "         |\n",
        "         O\n",
        "        / \\\\\n",
        "         |\n",
        "         ''',\n",
        "        5:'''\n",
        "        ____________\n",
        "         |\n",
        "         O\n",
        "        / \\\\\n",
        "         |\n",
        "        /''',\n",
        "        6:'''\n",
        "        ____________\n",
        "         |\n",
        "         O\n",
        "        / \\\\\n",
        "         |\n",
        "        / \\\\ '''}"
      ]
    },
    {
      "cell_type": "code",
      "execution_count": null,
      "id": "I3ZS4hFB_VkS",
      "metadata": {
        "colab": {
          "base_uri": "https://localhost:8080/"
        },
        "id": "I3ZS4hFB_VkS",
        "outputId": "a310b1e6-33bc-4a51-942c-eeb823c9559a"
      },
      "outputs": [
        {
          "output_type": "stream",
          "name": "stdout",
          "text": [
            "Hidden word is: _ _ _ _ _ _ .\n",
            "Pick a letter:\n"
          ]
        }
      ],
      "source": [
        "\n",
        "import random\n",
        "list_of_words = [\"python\",\"is\",\"fun\",\"but\",\"annoying\"]\n",
        "answer_word = random.choice(list_of_words).upper()\n",
        "hidden_word = '_ '*len(answer_word)\n",
        "remaining_mistakes = 6\n",
        "\n",
        "while remaining_mistakes > 0 and hidden_word.count('_') != 0 :\n",
        "  print(f'Hidden word is: {hidden_word}.')\n",
        "  print(\"Pick a letter:\")\n",
        "  picked_letter = input().upper()\n",
        "\n",
        "  index_count = 0\n",
        "  for letter in answer_word:\n",
        "    if letter == picked_letter:\n",
        "      hidden_word = hidden_word[:index_count] + picked_letter + hidden_word[index_count+1:]\n",
        "    index_count += 2\n",
        "\n",
        "  if picked_letter in answer_word:\n",
        "    print(f'CORRECT! The word contains the letter {picked_letter}!')\n",
        "  else:\n",
        "    remaining_mistakes -= 1\n",
        "    print(f'WRONG! Number of mistakes left: {remaining_mistakes}')\n",
        "    print(hangman[6 - remaining_mistakes])\n",
        "\n",
        "  print('==============================================')\n",
        "\n",
        "if remaining_mistakes == 0:\n",
        "  print('HANGED')\n",
        "else:\n",
        "  print('Congratulations!w')\n",
        "\n",
        "print(f\"The correct answer is {answer_word}\")\n"
      ]
    }
  ],
  "metadata": {
    "colab": {
      "provenance": []
    },
    "kernelspec": {
      "display_name": "Python 3 (ipykernel)",
      "language": "python",
      "name": "python3"
    },
    "language_info": {
      "codemirror_mode": {
        "name": "ipython",
        "version": 3
      },
      "file_extension": ".py",
      "mimetype": "text/x-python",
      "name": "python",
      "nbconvert_exporter": "python",
      "pygments_lexer": "ipython3",
      "version": "3.9.12"
    }
  },
  "nbformat": 4,
  "nbformat_minor": 5
}