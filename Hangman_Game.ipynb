
    hangman={0:'''
        ____________
         |



         ''',
        1:'''
        ____________
         |
         O


         ''',
        2:'''
        ____________
         |
         O
        /

        ''',
        3:'''
        ____________
         |
         O
        / \\

        ''',
        4:'''
        ____________
         |
         O
        / \\
         |
         ''',
        5:'''
        ____________
         |
         O
        / \\
         |
        /''',
        6:'''
        ____________
         |
         O
        / \\
         |
        / \\ '''}


import random
list_of_words = ["python","is","fun","but","annoying"]
answer_word = random.choice(list_of_words).upper()
hidden_word = '_ '*len(answer_word)
remaining_mistakes = 6

while remaining_mistakes > 0 and hidden_word.count('_') != 0 :
  print(f'Hidden word is: {hidden_word}.')
  print("Pick a letter:")
  picked_letter = input().upper()

  index_count = 0
  for letter in answer_word:
    if letter == picked_letter:
      hidden_word = hidden_word[:index_count] + picked_letter + hidden_word[index_count+1:]
    index_count += 2

  if picked_letter in answer_word:
    print(f'CORRECT! The word contains the letter {picked_letter}!')
  else:
    remaining_mistakes -= 1
    print(f'WRONG! Number of mistakes left: {remaining_mistakes}')
    print(hangman[6 - remaining_mistakes])

  print('==============================================')

if remaining_mistakes == 0:
  print('HANGED')
else:
  print('Congratulations!w')

print(f"The correct answer is {answer_word}")
